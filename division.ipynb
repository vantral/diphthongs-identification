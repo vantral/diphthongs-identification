{
 "cells": [
  {
   "cell_type": "code",
   "execution_count": 1,
   "id": "e4c3ad4f",
   "metadata": {},
   "outputs": [],
   "source": [
    "import textgrid\n",
    "import re\n",
    "from pydub import AudioSegment\n",
    "from pathlib import Path\n",
    "from tqdm.notebook import tqdm\n",
    "from unidecode import unidecode"
   ]
  },
  {
   "cell_type": "code",
   "execution_count": 2,
   "id": "ccbccd29",
   "metadata": {},
   "outputs": [],
   "source": [
    "def get_tier(textgrid: textgrid.textgrid.TextGrid, name: str) -> textgrid.textgrid.IntervalTier:\n",
    "    for tier in textgrid:\n",
    "        if tier.name == name:\n",
    "            return tier"
   ]
  },
  {
   "cell_type": "code",
   "execution_count": 5,
   "id": "08fe3e16",
   "metadata": {
    "scrolled": true
   },
   "outputs": [
    {
     "data": {
      "application/vnd.jupyter.widget-view+json": {
       "model_id": "ec687345bde644939feadf8390bcf38b",
       "version_major": 2,
       "version_minor": 0
      },
      "text/plain": [
       "  0%|          | 0/1 [00:00<?, ?it/s]"
      ]
     },
     "metadata": {},
     "output_type": "display_data"
    }
   ],
   "source": [
    "est_ = ['i', 'iː', 'iːː', 'æ', 'æː', 'æːː', 'ie', 'æe', 'ea', 'e', 'eː', 'eːː']\n",
    "kld_ = ['ie', 'ea', 'iː', 'aː', 'eː']\n",
    "skolt_ = ['eä', 'ie', 'iä', 'iõ', 'e', 'eː', 'õ', 'õː', 'â', 'âː', 'i', 'iː']\n",
    "\n",
    "paths = [\n",
    "    ('./estonian/Liisa/', 'est_liisa', est_),\n",
    "    ('./estonian/Vello/', 'est_vello', est_),\n",
    "    ('./kildin/', 'kld', kld_),\n",
    "    ('./lithuanian/', 'lit', []),\n",
    "    ('./skolt/', 'skolt', skolt_)\n",
    "]\n",
    "\n",
    "for path in tqdm(paths):\n",
    "    Path('./divided/' + path[1] + '/sounds').mkdir(parents=True, exist_ok=True)\n",
    "    files = Path(path[0]).iterdir()\n",
    "    wavs = [file for file in files if file.suffix == '.wav']\n",
    "    tgs = [Path(wav.with_suffix('.TextGrid')) for wav in wavs]\n",
    "\n",
    "    for wav, tg in zip(wavs, tgs):\n",
    "        audio = AudioSegment.from_wav(wav)\n",
    "        tg = textgrid.TextGrid.fromFile(tg)\n",
    "        vowels = get_tier(tg, 'vowel')\n",
    "        words = get_tier(tg, 'word')\n",
    "        if path[1] == 'north':\n",
    "            vowels = vowels[1::2]\n",
    "\n",
    "        for vowel, word in zip(vowels, words):\n",
    "            if not vowel.mark:\n",
    "                continue\n",
    "            if vowel.mark not in path[2] and path[1] != 'lit':\n",
    "                continue\n",
    "\n",
    "            start = vowel.minTime * 1000 - 25\n",
    "            end = vowel.maxTime * 1000 + 25\n",
    "            word_ = unidecode(word.mark.replace('̄', 'ː')).replace('\"', \"''\")\n",
    "            n = 1\n",
    "            name = f'./divided/{path[1]}/sounds/{path[1]}_{vowel.mark}_{word_}_{n}.wav'.replace(':', 'ː')\n",
    "            while Path(name).exists():\n",
    "                n += 1\n",
    "                name = f'./divided/{path[1]}/sounds/{path[1]}_{vowel.mark}_{word_}_{n}.wav'.replace(':', 'ː')\n",
    "            sound = audio[start:end]\n",
    "            sound.export(name, format='wav')"
   ]
  }
 ],
 "metadata": {
  "kernelspec": {
   "display_name": "Python 3 (ipykernel)",
   "language": "python",
   "name": "python3"
  },
  "language_info": {
   "codemirror_mode": {
    "name": "ipython",
    "version": 3
   },
   "file_extension": ".py",
   "mimetype": "text/x-python",
   "name": "python",
   "nbconvert_exporter": "python",
   "pygments_lexer": "ipython3",
   "version": "3.9.13"
  }
 },
 "nbformat": 4,
 "nbformat_minor": 5
}
